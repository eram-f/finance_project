{
 "cells": [
  {
   "cell_type": "markdown",
   "metadata": {},
   "source": [
    "# Finance Data Project \n",
    "\n",
    "In this data project we will focus on exploratory data analysis of stock prices. \n",
    "\n",
    "We will be using stock data provided by Yahoo Finance."
   ]
  },
  {
   "cell_type": "markdown",
   "metadata": {},
   "source": [
    "## Get the Data"
   ]
  },
  {
   "cell_type": "markdown",
   "metadata": {},
   "source": [
    "yfinance is a popular open source library developed by Ran Aroussi as a means to access the financial data available on Yahoo Finance.\n",
    "yfinance, which is a Python package to download Yahoo Finance data"
   ]
  },
  {
   "cell_type": "code",
   "execution_count": 506,
   "metadata": {},
   "outputs": [
    {
     "name": "stdout",
     "output_type": "stream",
     "text": [
      "Requirement already satisfied: yfinance in /Library/Frameworks/Python.framework/Versions/3.12/lib/python3.12/site-packages (0.2.37)\n",
      "Requirement already satisfied: pandas>=1.3.0 in /Library/Frameworks/Python.framework/Versions/3.12/lib/python3.12/site-packages (from yfinance) (2.2.1)\n",
      "Requirement already satisfied: numpy>=1.16.5 in /Library/Frameworks/Python.framework/Versions/3.12/lib/python3.12/site-packages (from yfinance) (1.26.4)\n",
      "Requirement already satisfied: requests>=2.31 in /Library/Frameworks/Python.framework/Versions/3.12/lib/python3.12/site-packages (from yfinance) (2.31.0)\n",
      "Requirement already satisfied: multitasking>=0.0.7 in /Library/Frameworks/Python.framework/Versions/3.12/lib/python3.12/site-packages (from yfinance) (0.0.11)\n",
      "Requirement already satisfied: lxml>=4.9.1 in /Library/Frameworks/Python.framework/Versions/3.12/lib/python3.12/site-packages (from yfinance) (5.1.0)\n",
      "Requirement already satisfied: appdirs>=1.4.4 in /Library/Frameworks/Python.framework/Versions/3.12/lib/python3.12/site-packages (from yfinance) (1.4.4)\n",
      "Requirement already satisfied: pytz>=2022.5 in /Library/Frameworks/Python.framework/Versions/3.12/lib/python3.12/site-packages (from yfinance) (2024.1)\n",
      "Requirement already satisfied: frozendict>=2.3.4 in /Library/Frameworks/Python.framework/Versions/3.12/lib/python3.12/site-packages (from yfinance) (2.4.0)\n",
      "Requirement already satisfied: peewee>=3.16.2 in /Library/Frameworks/Python.framework/Versions/3.12/lib/python3.12/site-packages (from yfinance) (3.17.1)\n",
      "Requirement already satisfied: beautifulsoup4>=4.11.1 in /Library/Frameworks/Python.framework/Versions/3.12/lib/python3.12/site-packages (from yfinance) (4.12.3)\n",
      "Requirement already satisfied: html5lib>=1.1 in /Library/Frameworks/Python.framework/Versions/3.12/lib/python3.12/site-packages (from yfinance) (1.1)\n",
      "Requirement already satisfied: soupsieve>1.2 in /Library/Frameworks/Python.framework/Versions/3.12/lib/python3.12/site-packages (from beautifulsoup4>=4.11.1->yfinance) (2.5)\n",
      "Requirement already satisfied: six>=1.9 in /Library/Frameworks/Python.framework/Versions/3.12/lib/python3.12/site-packages (from html5lib>=1.1->yfinance) (1.16.0)\n",
      "Requirement already satisfied: webencodings in /Library/Frameworks/Python.framework/Versions/3.12/lib/python3.12/site-packages (from html5lib>=1.1->yfinance) (0.5.1)\n",
      "Requirement already satisfied: python-dateutil>=2.8.2 in /Library/Frameworks/Python.framework/Versions/3.12/lib/python3.12/site-packages (from pandas>=1.3.0->yfinance) (2.8.2)\n",
      "Requirement already satisfied: tzdata>=2022.7 in /Library/Frameworks/Python.framework/Versions/3.12/lib/python3.12/site-packages (from pandas>=1.3.0->yfinance) (2024.1)\n",
      "Requirement already satisfied: charset-normalizer<4,>=2 in /Library/Frameworks/Python.framework/Versions/3.12/lib/python3.12/site-packages (from requests>=2.31->yfinance) (3.3.2)\n",
      "Requirement already satisfied: idna<4,>=2.5 in /Library/Frameworks/Python.framework/Versions/3.12/lib/python3.12/site-packages (from requests>=2.31->yfinance) (3.6)\n",
      "Requirement already satisfied: urllib3<3,>=1.21.1 in /Library/Frameworks/Python.framework/Versions/3.12/lib/python3.12/site-packages (from requests>=2.31->yfinance) (2.2.1)\n",
      "Requirement already satisfied: certifi>=2017.4.17 in /Library/Frameworks/Python.framework/Versions/3.12/lib/python3.12/site-packages (from requests>=2.31->yfinance) (2024.2.2)\n",
      "\n",
      "\u001b[1m[\u001b[0m\u001b[34;49mnotice\u001b[0m\u001b[1;39;49m]\u001b[0m\u001b[39;49m A new release of pip is available: \u001b[0m\u001b[31;49m23.2.1\u001b[0m\u001b[39;49m -> \u001b[0m\u001b[32;49m24.0\u001b[0m\n",
      "\u001b[1m[\u001b[0m\u001b[34;49mnotice\u001b[0m\u001b[1;39;49m]\u001b[0m\u001b[39;49m To update, run: \u001b[0m\u001b[32;49mpip3 install --upgrade pip\u001b[0m\n",
      "Note: you may need to restart the kernel to use updated packages.\n"
     ]
    }
   ],
   "source": [
    "pip install yfinance"
   ]
  },
  {
   "cell_type": "code",
   "execution_count": 507,
   "metadata": {},
   "outputs": [
    {
     "name": "stdout",
     "output_type": "stream",
     "text": [
      "Requirement already satisfied: pandas-datareader in /Library/Frameworks/Python.framework/Versions/3.12/lib/python3.12/site-packages (0.10.0)\n",
      "Requirement already satisfied: lxml in /Library/Frameworks/Python.framework/Versions/3.12/lib/python3.12/site-packages (from pandas-datareader) (5.1.0)\n",
      "Requirement already satisfied: pandas>=0.23 in /Library/Frameworks/Python.framework/Versions/3.12/lib/python3.12/site-packages (from pandas-datareader) (2.2.1)\n",
      "Requirement already satisfied: requests>=2.19.0 in /Library/Frameworks/Python.framework/Versions/3.12/lib/python3.12/site-packages (from pandas-datareader) (2.31.0)\n",
      "Requirement already satisfied: numpy<2,>=1.26.0 in /Library/Frameworks/Python.framework/Versions/3.12/lib/python3.12/site-packages (from pandas>=0.23->pandas-datareader) (1.26.4)\n",
      "Requirement already satisfied: python-dateutil>=2.8.2 in /Library/Frameworks/Python.framework/Versions/3.12/lib/python3.12/site-packages (from pandas>=0.23->pandas-datareader) (2.8.2)\n",
      "Requirement already satisfied: pytz>=2020.1 in /Library/Frameworks/Python.framework/Versions/3.12/lib/python3.12/site-packages (from pandas>=0.23->pandas-datareader) (2024.1)\n",
      "Requirement already satisfied: tzdata>=2022.7 in /Library/Frameworks/Python.framework/Versions/3.12/lib/python3.12/site-packages (from pandas>=0.23->pandas-datareader) (2024.1)\n",
      "Requirement already satisfied: charset-normalizer<4,>=2 in /Library/Frameworks/Python.framework/Versions/3.12/lib/python3.12/site-packages (from requests>=2.19.0->pandas-datareader) (3.3.2)\n",
      "Requirement already satisfied: idna<4,>=2.5 in /Library/Frameworks/Python.framework/Versions/3.12/lib/python3.12/site-packages (from requests>=2.19.0->pandas-datareader) (3.6)\n",
      "Requirement already satisfied: urllib3<3,>=1.21.1 in /Library/Frameworks/Python.framework/Versions/3.12/lib/python3.12/site-packages (from requests>=2.19.0->pandas-datareader) (2.2.1)\n",
      "Requirement already satisfied: certifi>=2017.4.17 in /Library/Frameworks/Python.framework/Versions/3.12/lib/python3.12/site-packages (from requests>=2.19.0->pandas-datareader) (2024.2.2)\n",
      "Requirement already satisfied: six>=1.5 in /Library/Frameworks/Python.framework/Versions/3.12/lib/python3.12/site-packages (from python-dateutil>=2.8.2->pandas>=0.23->pandas-datareader) (1.16.0)\n",
      "\n",
      "\u001b[1m[\u001b[0m\u001b[34;49mnotice\u001b[0m\u001b[1;39;49m]\u001b[0m\u001b[39;49m A new release of pip is available: \u001b[0m\u001b[31;49m23.2.1\u001b[0m\u001b[39;49m -> \u001b[0m\u001b[32;49m24.0\u001b[0m\n",
      "\u001b[1m[\u001b[0m\u001b[34;49mnotice\u001b[0m\u001b[1;39;49m]\u001b[0m\u001b[39;49m To update, run: \u001b[0m\u001b[32;49mpip3 install --upgrade pip\u001b[0m\n",
      "Note: you may need to restart the kernel to use updated packages.\n"
     ]
    }
   ],
   "source": [
    "\n",
    "pip install pandas-datareader"
   ]
  },
  {
   "cell_type": "code",
   "execution_count": 577,
   "metadata": {},
   "outputs": [],
   "source": [
    "import yfinance as yf\n",
    "from pandas_datareader import data\n",
    "import pandas as pd\n",
    "import numpy as np\n",
    "import datetime as dt"
   ]
  },
  {
   "cell_type": "markdown",
   "metadata": {},
   "source": [
    "We need to get data using pandas datareader. We will get stock information for the following banks:\n",
    "*  Bank of America\n",
    "* CitiGroup\n",
    "* Goldman Sachs\n",
    "* JPMorgan Chase\n",
    "* Morgan Stanley\n",
    "* Wells Fargo\n",
    "\n",
    "Set each bank to be a separate dataframe, with the variable name for that bank being its ticker symbol."
   ]
  },
  {
   "cell_type": "code",
   "execution_count": 603,
   "metadata": {},
   "outputs": [
    {
     "name": "stderr",
     "output_type": "stream",
     "text": [
      "[*********************100%%**********************]  1 of 1 completed"
     ]
    },
    {
     "name": "stdout",
     "output_type": "stream",
     "text": [
      "<class 'pandas.core.frame.DataFrame'>\n",
      "DatetimeIndex: 1276 entries, 2019-01-02 to 2024-01-26\n",
      "Data columns (total 6 columns):\n",
      " #   Column     Non-Null Count  Dtype  \n",
      "---  ------     --------------  -----  \n",
      " 0   Open       1276 non-null   float64\n",
      " 1   High       1276 non-null   float64\n",
      " 2   Low        1276 non-null   float64\n",
      " 3   Close      1276 non-null   float64\n",
      " 4   Adj Close  1276 non-null   float64\n",
      " 5   Volume     1276 non-null   int64  \n",
      "dtypes: float64(5), int64(1)\n",
      "memory usage: 69.8 KB\n"
     ]
    },
    {
     "name": "stderr",
     "output_type": "stream",
     "text": [
      "\n"
     ]
    }
   ],
   "source": [
    "yf.pdr_override()\n",
    "start = dt.datetime(2019, 1, 1)\n",
    "end = dt.datetime(2024, 1, 29)\n",
    "# end = dt.datetime.today()\n",
    "BAC = data.get_data_yahoo('BAC', start, end)\n",
    "BAC.info()"
   ]
  },
  {
   "cell_type": "code",
   "execution_count": 604,
   "metadata": {},
   "outputs": [
    {
     "data": {
      "text/html": [
       "<div>\n",
       "<style scoped>\n",
       "    .dataframe tbody tr th:only-of-type {\n",
       "        vertical-align: middle;\n",
       "    }\n",
       "\n",
       "    .dataframe tbody tr th {\n",
       "        vertical-align: top;\n",
       "    }\n",
       "\n",
       "    .dataframe thead th {\n",
       "        text-align: right;\n",
       "    }\n",
       "</style>\n",
       "<table border=\"1\" class=\"dataframe\">\n",
       "  <thead>\n",
       "    <tr style=\"text-align: right;\">\n",
       "      <th></th>\n",
       "      <th>Open</th>\n",
       "      <th>High</th>\n",
       "      <th>Low</th>\n",
       "      <th>Close</th>\n",
       "      <th>Adj Close</th>\n",
       "      <th>Volume</th>\n",
       "    </tr>\n",
       "    <tr>\n",
       "      <th>Date</th>\n",
       "      <th></th>\n",
       "      <th></th>\n",
       "      <th></th>\n",
       "      <th></th>\n",
       "      <th></th>\n",
       "      <th></th>\n",
       "    </tr>\n",
       "  </thead>\n",
       "  <tbody>\n",
       "    <tr>\n",
       "      <th>2019-01-02</th>\n",
       "      <td>24.080000</td>\n",
       "      <td>25.139999</td>\n",
       "      <td>24.010000</td>\n",
       "      <td>24.959999</td>\n",
       "      <td>21.945164</td>\n",
       "      <td>71836300</td>\n",
       "    </tr>\n",
       "    <tr>\n",
       "      <th>2019-01-03</th>\n",
       "      <td>24.940001</td>\n",
       "      <td>25.040001</td>\n",
       "      <td>24.450001</td>\n",
       "      <td>24.559999</td>\n",
       "      <td>21.593485</td>\n",
       "      <td>66599600</td>\n",
       "    </tr>\n",
       "    <tr>\n",
       "      <th>2019-01-04</th>\n",
       "      <td>25.100000</td>\n",
       "      <td>25.650000</td>\n",
       "      <td>25.030001</td>\n",
       "      <td>25.580000</td>\n",
       "      <td>22.490282</td>\n",
       "      <td>83829100</td>\n",
       "    </tr>\n",
       "    <tr>\n",
       "      <th>2019-01-07</th>\n",
       "      <td>25.559999</td>\n",
       "      <td>25.780001</td>\n",
       "      <td>25.290001</td>\n",
       "      <td>25.559999</td>\n",
       "      <td>22.472698</td>\n",
       "      <td>57016300</td>\n",
       "    </tr>\n",
       "    <tr>\n",
       "      <th>2019-01-08</th>\n",
       "      <td>25.719999</td>\n",
       "      <td>25.790001</td>\n",
       "      <td>25.090000</td>\n",
       "      <td>25.510000</td>\n",
       "      <td>22.428738</td>\n",
       "      <td>67339400</td>\n",
       "    </tr>\n",
       "  </tbody>\n",
       "</table>\n",
       "</div>"
      ],
      "text/plain": [
       "                 Open       High        Low      Close  Adj Close    Volume\n",
       "Date                                                                       \n",
       "2019-01-02  24.080000  25.139999  24.010000  24.959999  21.945164  71836300\n",
       "2019-01-03  24.940001  25.040001  24.450001  24.559999  21.593485  66599600\n",
       "2019-01-04  25.100000  25.650000  25.030001  25.580000  22.490282  83829100\n",
       "2019-01-07  25.559999  25.780001  25.290001  25.559999  22.472698  57016300\n",
       "2019-01-08  25.719999  25.790001  25.090000  25.510000  22.428738  67339400"
      ]
     },
     "execution_count": 604,
     "metadata": {},
     "output_type": "execute_result"
    }
   ],
   "source": [
    "BAC.head(5)"
   ]
  },
  {
   "cell_type": "code",
   "execution_count": 605,
   "metadata": {},
   "outputs": [
    {
     "name": "stderr",
     "output_type": "stream",
     "text": [
      "[*********************100%%**********************]  1 of 1 completed\n",
      "[*********************100%%**********************]  1 of 1 completed\n",
      "[*********************100%%**********************]  1 of 1 completed\n",
      "[*********************100%%**********************]  1 of 1 completed\n",
      "[*********************100%%**********************]  1 of 1 completed\n"
     ]
    }
   ],
   "source": [
    "# CitiGroup\n",
    "C = data.get_data_yahoo('C', start, end)\n",
    " \n",
    "# Goldman Sachs\n",
    "GS = data.get_data_yahoo('GS', start, end)\n",
    " \n",
    "# JPMorgan Chase\n",
    "JPM = data.get_data_yahoo('JPM', start, end)\n",
    " \n",
    "# Morgan Stanley\n",
    "MS = data.get_data_yahoo('MS', start, end)\n",
    " \n",
    "# Wells Fargo\n",
    "WF = data.get_data_yahoo('WFC', start, end)"
   ]
  },
  {
   "cell_type": "code",
   "execution_count": 606,
   "metadata": {},
   "outputs": [],
   "source": [
    "# C.info()"
   ]
  },
  {
   "cell_type": "code",
   "execution_count": 607,
   "metadata": {},
   "outputs": [],
   "source": [
    "# GS.info()"
   ]
  },
  {
   "cell_type": "code",
   "execution_count": 608,
   "metadata": {},
   "outputs": [],
   "source": [
    "# JPM.info()"
   ]
  },
  {
   "cell_type": "code",
   "execution_count": 609,
   "metadata": {},
   "outputs": [],
   "source": [
    "# MS.info()"
   ]
  },
  {
   "cell_type": "code",
   "execution_count": 610,
   "metadata": {},
   "outputs": [],
   "source": [
    "# WF.info()"
   ]
  },
  {
   "cell_type": "code",
   "execution_count": 611,
   "metadata": {},
   "outputs": [],
   "source": [
    "tickers = ['BAC', 'C', 'GS', 'JPM', 'MS', 'WFC']"
   ]
  },
  {
   "cell_type": "markdown",
   "metadata": {},
   "source": [
    "** Use pd.concat to concatenate the bank dataframes together to a single data frame called bank_stocks. axis=1, since we are doing column wise concatenation**"
   ]
  },
  {
   "cell_type": "code",
   "execution_count": 612,
   "metadata": {},
   "outputs": [
    {
     "data": {
      "text/html": [
       "<div>\n",
       "<style scoped>\n",
       "    .dataframe tbody tr th:only-of-type {\n",
       "        vertical-align: middle;\n",
       "    }\n",
       "\n",
       "    .dataframe tbody tr th {\n",
       "        vertical-align: top;\n",
       "    }\n",
       "\n",
       "    .dataframe thead tr th {\n",
       "        text-align: left;\n",
       "    }\n",
       "\n",
       "    .dataframe thead tr:last-of-type th {\n",
       "        text-align: right;\n",
       "    }\n",
       "</style>\n",
       "<table border=\"1\" class=\"dataframe\">\n",
       "  <thead>\n",
       "    <tr>\n",
       "      <th></th>\n",
       "      <th colspan=\"6\" halign=\"left\">BAC</th>\n",
       "      <th colspan=\"6\" halign=\"left\">C</th>\n",
       "      <th colspan=\"6\" halign=\"left\">GS</th>\n",
       "      <th colspan=\"6\" halign=\"left\">JPM</th>\n",
       "      <th colspan=\"6\" halign=\"left\">MS</th>\n",
       "      <th colspan=\"6\" halign=\"left\">WFC</th>\n",
       "    </tr>\n",
       "    <tr>\n",
       "      <th></th>\n",
       "      <th>Open</th>\n",
       "      <th>High</th>\n",
       "      <th>Low</th>\n",
       "      <th>Close</th>\n",
       "      <th>Adj Close</th>\n",
       "      <th>Volume</th>\n",
       "      <th>Open</th>\n",
       "      <th>High</th>\n",
       "      <th>Low</th>\n",
       "      <th>Close</th>\n",
       "      <th>Adj Close</th>\n",
       "      <th>Volume</th>\n",
       "      <th>Open</th>\n",
       "      <th>High</th>\n",
       "      <th>Low</th>\n",
       "      <th>Close</th>\n",
       "      <th>Adj Close</th>\n",
       "      <th>Volume</th>\n",
       "      <th>Open</th>\n",
       "      <th>High</th>\n",
       "      <th>Low</th>\n",
       "      <th>Close</th>\n",
       "      <th>Adj Close</th>\n",
       "      <th>Volume</th>\n",
       "      <th>Open</th>\n",
       "      <th>High</th>\n",
       "      <th>Low</th>\n",
       "      <th>Close</th>\n",
       "      <th>Adj Close</th>\n",
       "      <th>Volume</th>\n",
       "      <th>Open</th>\n",
       "      <th>High</th>\n",
       "      <th>Low</th>\n",
       "      <th>Close</th>\n",
       "      <th>Adj Close</th>\n",
       "      <th>Volume</th>\n",
       "    </tr>\n",
       "    <tr>\n",
       "      <th>Date</th>\n",
       "      <th></th>\n",
       "      <th></th>\n",
       "      <th></th>\n",
       "      <th></th>\n",
       "      <th></th>\n",
       "      <th></th>\n",
       "      <th></th>\n",
       "      <th></th>\n",
       "      <th></th>\n",
       "      <th></th>\n",
       "      <th></th>\n",
       "      <th></th>\n",
       "      <th></th>\n",
       "      <th></th>\n",
       "      <th></th>\n",
       "      <th></th>\n",
       "      <th></th>\n",
       "      <th></th>\n",
       "      <th></th>\n",
       "      <th></th>\n",
       "      <th></th>\n",
       "      <th></th>\n",
       "      <th></th>\n",
       "      <th></th>\n",
       "      <th></th>\n",
       "      <th></th>\n",
       "      <th></th>\n",
       "      <th></th>\n",
       "      <th></th>\n",
       "      <th></th>\n",
       "      <th></th>\n",
       "      <th></th>\n",
       "      <th></th>\n",
       "      <th></th>\n",
       "      <th></th>\n",
       "      <th></th>\n",
       "    </tr>\n",
       "  </thead>\n",
       "  <tbody>\n",
       "    <tr>\n",
       "      <th>2019-01-02</th>\n",
       "      <td>24.080000</td>\n",
       "      <td>25.139999</td>\n",
       "      <td>24.010000</td>\n",
       "      <td>24.959999</td>\n",
       "      <td>21.945164</td>\n",
       "      <td>71836300</td>\n",
       "      <td>50.680000</td>\n",
       "      <td>53.740002</td>\n",
       "      <td>50.669998</td>\n",
       "      <td>53.529999</td>\n",
       "      <td>44.190239</td>\n",
       "      <td>21646300</td>\n",
       "      <td>164.330002</td>\n",
       "      <td>172.250000</td>\n",
       "      <td>163.350006</td>\n",
       "      <td>172.029999</td>\n",
       "      <td>151.677521</td>\n",
       "      <td>3999400</td>\n",
       "      <td>95.949997</td>\n",
       "      <td>99.779999</td>\n",
       "      <td>95.940002</td>\n",
       "      <td>99.309998</td>\n",
       "      <td>84.811676</td>\n",
       "      <td>15670900</td>\n",
       "      <td>39.020000</td>\n",
       "      <td>40.720001</td>\n",
       "      <td>38.759998</td>\n",
       "      <td>40.400002</td>\n",
       "      <td>34.282745</td>\n",
       "      <td>10648000</td>\n",
       "      <td>45.529999</td>\n",
       "      <td>46.950001</td>\n",
       "      <td>45.410000</td>\n",
       "      <td>46.939999</td>\n",
       "      <td>40.266796</td>\n",
       "      <td>20295200</td>\n",
       "    </tr>\n",
       "    <tr>\n",
       "      <th>2019-01-03</th>\n",
       "      <td>24.940001</td>\n",
       "      <td>25.040001</td>\n",
       "      <td>24.450001</td>\n",
       "      <td>24.559999</td>\n",
       "      <td>21.593485</td>\n",
       "      <td>66599600</td>\n",
       "      <td>53.410000</td>\n",
       "      <td>53.619999</td>\n",
       "      <td>52.220001</td>\n",
       "      <td>52.560001</td>\n",
       "      <td>43.389481</td>\n",
       "      <td>21183000</td>\n",
       "      <td>170.660004</td>\n",
       "      <td>171.770004</td>\n",
       "      <td>168.289993</td>\n",
       "      <td>169.509995</td>\n",
       "      <td>149.455673</td>\n",
       "      <td>4060200</td>\n",
       "      <td>98.639999</td>\n",
       "      <td>98.889999</td>\n",
       "      <td>96.690002</td>\n",
       "      <td>97.110001</td>\n",
       "      <td>83.606377</td>\n",
       "      <td>16286400</td>\n",
       "      <td>40.220001</td>\n",
       "      <td>40.220001</td>\n",
       "      <td>39.250000</td>\n",
       "      <td>39.680000</td>\n",
       "      <td>33.671757</td>\n",
       "      <td>13034500</td>\n",
       "      <td>46.650002</td>\n",
       "      <td>47.349998</td>\n",
       "      <td>46.369999</td>\n",
       "      <td>46.570000</td>\n",
       "      <td>39.949394</td>\n",
       "      <td>22262000</td>\n",
       "    </tr>\n",
       "    <tr>\n",
       "      <th>2019-01-04</th>\n",
       "      <td>25.100000</td>\n",
       "      <td>25.650000</td>\n",
       "      <td>25.030001</td>\n",
       "      <td>25.580000</td>\n",
       "      <td>22.490282</td>\n",
       "      <td>83829100</td>\n",
       "      <td>54.009998</td>\n",
       "      <td>55.380001</td>\n",
       "      <td>53.660000</td>\n",
       "      <td>55.130001</td>\n",
       "      <td>45.511078</td>\n",
       "      <td>24205100</td>\n",
       "      <td>172.990005</td>\n",
       "      <td>176.000000</td>\n",
       "      <td>171.100006</td>\n",
       "      <td>175.050003</td>\n",
       "      <td>154.340210</td>\n",
       "      <td>3788300</td>\n",
       "      <td>99.110001</td>\n",
       "      <td>100.930000</td>\n",
       "      <td>98.279999</td>\n",
       "      <td>100.690002</td>\n",
       "      <td>86.688553</td>\n",
       "      <td>16935200</td>\n",
       "      <td>40.500000</td>\n",
       "      <td>41.580002</td>\n",
       "      <td>40.279999</td>\n",
       "      <td>41.299999</td>\n",
       "      <td>35.046455</td>\n",
       "      <td>14371600</td>\n",
       "      <td>47.419998</td>\n",
       "      <td>48.110001</td>\n",
       "      <td>47.200001</td>\n",
       "      <td>47.950001</td>\n",
       "      <td>41.133209</td>\n",
       "      <td>23343600</td>\n",
       "    </tr>\n",
       "    <tr>\n",
       "      <th>2019-01-07</th>\n",
       "      <td>25.559999</td>\n",
       "      <td>25.780001</td>\n",
       "      <td>25.290001</td>\n",
       "      <td>25.559999</td>\n",
       "      <td>22.472698</td>\n",
       "      <td>57016300</td>\n",
       "      <td>55.330002</td>\n",
       "      <td>56.209999</td>\n",
       "      <td>54.799999</td>\n",
       "      <td>55.610001</td>\n",
       "      <td>45.907326</td>\n",
       "      <td>20634100</td>\n",
       "      <td>175.229996</td>\n",
       "      <td>177.830002</td>\n",
       "      <td>172.270004</td>\n",
       "      <td>176.020004</td>\n",
       "      <td>155.195450</td>\n",
       "      <td>3152100</td>\n",
       "      <td>100.430000</td>\n",
       "      <td>101.470001</td>\n",
       "      <td>99.709999</td>\n",
       "      <td>100.760002</td>\n",
       "      <td>86.748802</td>\n",
       "      <td>15430700</td>\n",
       "      <td>41.509998</td>\n",
       "      <td>42.160000</td>\n",
       "      <td>40.980000</td>\n",
       "      <td>41.709999</td>\n",
       "      <td>35.394375</td>\n",
       "      <td>11812400</td>\n",
       "      <td>47.779999</td>\n",
       "      <td>48.230000</td>\n",
       "      <td>47.540001</td>\n",
       "      <td>47.639999</td>\n",
       "      <td>40.867268</td>\n",
       "      <td>21858000</td>\n",
       "    </tr>\n",
       "    <tr>\n",
       "      <th>2019-01-08</th>\n",
       "      <td>25.719999</td>\n",
       "      <td>25.790001</td>\n",
       "      <td>25.090000</td>\n",
       "      <td>25.510000</td>\n",
       "      <td>22.428738</td>\n",
       "      <td>67339400</td>\n",
       "      <td>56.029999</td>\n",
       "      <td>56.189999</td>\n",
       "      <td>54.759998</td>\n",
       "      <td>55.459999</td>\n",
       "      <td>45.783493</td>\n",
       "      <td>18840100</td>\n",
       "      <td>177.779999</td>\n",
       "      <td>178.100006</td>\n",
       "      <td>172.899994</td>\n",
       "      <td>175.369995</td>\n",
       "      <td>154.622375</td>\n",
       "      <td>2692700</td>\n",
       "      <td>101.629997</td>\n",
       "      <td>101.820000</td>\n",
       "      <td>99.550003</td>\n",
       "      <td>100.570000</td>\n",
       "      <td>86.585228</td>\n",
       "      <td>13578800</td>\n",
       "      <td>42.299999</td>\n",
       "      <td>42.410000</td>\n",
       "      <td>41.080002</td>\n",
       "      <td>41.450001</td>\n",
       "      <td>35.173748</td>\n",
       "      <td>11398200</td>\n",
       "      <td>47.900002</td>\n",
       "      <td>48.160000</td>\n",
       "      <td>46.919998</td>\n",
       "      <td>47.540001</td>\n",
       "      <td>40.781490</td>\n",
       "      <td>19702900</td>\n",
       "    </tr>\n",
       "  </tbody>\n",
       "</table>\n",
       "</div>"
      ],
      "text/plain": [
       "                  BAC                        ...        WFC                     \n",
       "                 Open       High        Low  ...      Close  Adj Close    Volume\n",
       "Date                                         ...                                \n",
       "2019-01-02  24.080000  25.139999  24.010000  ...  46.939999  40.266796  20295200\n",
       "2019-01-03  24.940001  25.040001  24.450001  ...  46.570000  39.949394  22262000\n",
       "2019-01-04  25.100000  25.650000  25.030001  ...  47.950001  41.133209  23343600\n",
       "2019-01-07  25.559999  25.780001  25.290001  ...  47.639999  40.867268  21858000\n",
       "2019-01-08  25.719999  25.790001  25.090000  ...  47.540001  40.781490  19702900\n",
       "\n",
       "[5 rows x 36 columns]"
      ]
     },
     "execution_count": 612,
     "metadata": {},
     "output_type": "execute_result"
    }
   ],
   "source": [
    "bank_stocks = pd.concat([BAC, C, GS, JPM, MS, WF],axis=1,keys=tickers)\n",
    "bank_stocks.head(5)"
   ]
  },
  {
   "cell_type": "code",
   "execution_count": 613,
   "metadata": {},
   "outputs": [
    {
     "data": {
      "text/html": [
       "<div>\n",
       "<style scoped>\n",
       "    .dataframe tbody tr th:only-of-type {\n",
       "        vertical-align: middle;\n",
       "    }\n",
       "\n",
       "    .dataframe tbody tr th {\n",
       "        vertical-align: top;\n",
       "    }\n",
       "\n",
       "    .dataframe thead tr th {\n",
       "        text-align: left;\n",
       "    }\n",
       "\n",
       "    .dataframe thead tr:last-of-type th {\n",
       "        text-align: right;\n",
       "    }\n",
       "</style>\n",
       "<table border=\"1\" class=\"dataframe\">\n",
       "  <thead>\n",
       "    <tr>\n",
       "      <th>Bank Ticker</th>\n",
       "      <th colspan=\"6\" halign=\"left\">BAC</th>\n",
       "      <th colspan=\"6\" halign=\"left\">C</th>\n",
       "      <th colspan=\"6\" halign=\"left\">GS</th>\n",
       "      <th colspan=\"6\" halign=\"left\">JPM</th>\n",
       "      <th colspan=\"6\" halign=\"left\">MS</th>\n",
       "      <th colspan=\"6\" halign=\"left\">WFC</th>\n",
       "    </tr>\n",
       "    <tr>\n",
       "      <th>Stock Info</th>\n",
       "      <th>Open</th>\n",
       "      <th>High</th>\n",
       "      <th>Low</th>\n",
       "      <th>Close</th>\n",
       "      <th>Adj Close</th>\n",
       "      <th>Volume</th>\n",
       "      <th>Open</th>\n",
       "      <th>High</th>\n",
       "      <th>Low</th>\n",
       "      <th>Close</th>\n",
       "      <th>Adj Close</th>\n",
       "      <th>Volume</th>\n",
       "      <th>Open</th>\n",
       "      <th>High</th>\n",
       "      <th>Low</th>\n",
       "      <th>Close</th>\n",
       "      <th>Adj Close</th>\n",
       "      <th>Volume</th>\n",
       "      <th>Open</th>\n",
       "      <th>High</th>\n",
       "      <th>Low</th>\n",
       "      <th>Close</th>\n",
       "      <th>Adj Close</th>\n",
       "      <th>Volume</th>\n",
       "      <th>Open</th>\n",
       "      <th>High</th>\n",
       "      <th>Low</th>\n",
       "      <th>Close</th>\n",
       "      <th>Adj Close</th>\n",
       "      <th>Volume</th>\n",
       "      <th>Open</th>\n",
       "      <th>High</th>\n",
       "      <th>Low</th>\n",
       "      <th>Close</th>\n",
       "      <th>Adj Close</th>\n",
       "      <th>Volume</th>\n",
       "    </tr>\n",
       "    <tr>\n",
       "      <th>Date</th>\n",
       "      <th></th>\n",
       "      <th></th>\n",
       "      <th></th>\n",
       "      <th></th>\n",
       "      <th></th>\n",
       "      <th></th>\n",
       "      <th></th>\n",
       "      <th></th>\n",
       "      <th></th>\n",
       "      <th></th>\n",
       "      <th></th>\n",
       "      <th></th>\n",
       "      <th></th>\n",
       "      <th></th>\n",
       "      <th></th>\n",
       "      <th></th>\n",
       "      <th></th>\n",
       "      <th></th>\n",
       "      <th></th>\n",
       "      <th></th>\n",
       "      <th></th>\n",
       "      <th></th>\n",
       "      <th></th>\n",
       "      <th></th>\n",
       "      <th></th>\n",
       "      <th></th>\n",
       "      <th></th>\n",
       "      <th></th>\n",
       "      <th></th>\n",
       "      <th></th>\n",
       "      <th></th>\n",
       "      <th></th>\n",
       "      <th></th>\n",
       "      <th></th>\n",
       "      <th></th>\n",
       "      <th></th>\n",
       "    </tr>\n",
       "  </thead>\n",
       "  <tbody>\n",
       "    <tr>\n",
       "      <th>2019-01-02</th>\n",
       "      <td>24.080000</td>\n",
       "      <td>25.139999</td>\n",
       "      <td>24.010000</td>\n",
       "      <td>24.959999</td>\n",
       "      <td>21.945164</td>\n",
       "      <td>71836300</td>\n",
       "      <td>50.680000</td>\n",
       "      <td>53.740002</td>\n",
       "      <td>50.669998</td>\n",
       "      <td>53.529999</td>\n",
       "      <td>44.190239</td>\n",
       "      <td>21646300</td>\n",
       "      <td>164.330002</td>\n",
       "      <td>172.250000</td>\n",
       "      <td>163.350006</td>\n",
       "      <td>172.029999</td>\n",
       "      <td>151.677521</td>\n",
       "      <td>3999400</td>\n",
       "      <td>95.949997</td>\n",
       "      <td>99.779999</td>\n",
       "      <td>95.940002</td>\n",
       "      <td>99.309998</td>\n",
       "      <td>84.811676</td>\n",
       "      <td>15670900</td>\n",
       "      <td>39.020000</td>\n",
       "      <td>40.720001</td>\n",
       "      <td>38.759998</td>\n",
       "      <td>40.400002</td>\n",
       "      <td>34.282745</td>\n",
       "      <td>10648000</td>\n",
       "      <td>45.529999</td>\n",
       "      <td>46.950001</td>\n",
       "      <td>45.410000</td>\n",
       "      <td>46.939999</td>\n",
       "      <td>40.266796</td>\n",
       "      <td>20295200</td>\n",
       "    </tr>\n",
       "    <tr>\n",
       "      <th>2019-01-03</th>\n",
       "      <td>24.940001</td>\n",
       "      <td>25.040001</td>\n",
       "      <td>24.450001</td>\n",
       "      <td>24.559999</td>\n",
       "      <td>21.593485</td>\n",
       "      <td>66599600</td>\n",
       "      <td>53.410000</td>\n",
       "      <td>53.619999</td>\n",
       "      <td>52.220001</td>\n",
       "      <td>52.560001</td>\n",
       "      <td>43.389481</td>\n",
       "      <td>21183000</td>\n",
       "      <td>170.660004</td>\n",
       "      <td>171.770004</td>\n",
       "      <td>168.289993</td>\n",
       "      <td>169.509995</td>\n",
       "      <td>149.455673</td>\n",
       "      <td>4060200</td>\n",
       "      <td>98.639999</td>\n",
       "      <td>98.889999</td>\n",
       "      <td>96.690002</td>\n",
       "      <td>97.110001</td>\n",
       "      <td>83.606377</td>\n",
       "      <td>16286400</td>\n",
       "      <td>40.220001</td>\n",
       "      <td>40.220001</td>\n",
       "      <td>39.250000</td>\n",
       "      <td>39.680000</td>\n",
       "      <td>33.671757</td>\n",
       "      <td>13034500</td>\n",
       "      <td>46.650002</td>\n",
       "      <td>47.349998</td>\n",
       "      <td>46.369999</td>\n",
       "      <td>46.570000</td>\n",
       "      <td>39.949394</td>\n",
       "      <td>22262000</td>\n",
       "    </tr>\n",
       "    <tr>\n",
       "      <th>2019-01-04</th>\n",
       "      <td>25.100000</td>\n",
       "      <td>25.650000</td>\n",
       "      <td>25.030001</td>\n",
       "      <td>25.580000</td>\n",
       "      <td>22.490282</td>\n",
       "      <td>83829100</td>\n",
       "      <td>54.009998</td>\n",
       "      <td>55.380001</td>\n",
       "      <td>53.660000</td>\n",
       "      <td>55.130001</td>\n",
       "      <td>45.511078</td>\n",
       "      <td>24205100</td>\n",
       "      <td>172.990005</td>\n",
       "      <td>176.000000</td>\n",
       "      <td>171.100006</td>\n",
       "      <td>175.050003</td>\n",
       "      <td>154.340210</td>\n",
       "      <td>3788300</td>\n",
       "      <td>99.110001</td>\n",
       "      <td>100.930000</td>\n",
       "      <td>98.279999</td>\n",
       "      <td>100.690002</td>\n",
       "      <td>86.688553</td>\n",
       "      <td>16935200</td>\n",
       "      <td>40.500000</td>\n",
       "      <td>41.580002</td>\n",
       "      <td>40.279999</td>\n",
       "      <td>41.299999</td>\n",
       "      <td>35.046455</td>\n",
       "      <td>14371600</td>\n",
       "      <td>47.419998</td>\n",
       "      <td>48.110001</td>\n",
       "      <td>47.200001</td>\n",
       "      <td>47.950001</td>\n",
       "      <td>41.133209</td>\n",
       "      <td>23343600</td>\n",
       "    </tr>\n",
       "    <tr>\n",
       "      <th>2019-01-07</th>\n",
       "      <td>25.559999</td>\n",
       "      <td>25.780001</td>\n",
       "      <td>25.290001</td>\n",
       "      <td>25.559999</td>\n",
       "      <td>22.472698</td>\n",
       "      <td>57016300</td>\n",
       "      <td>55.330002</td>\n",
       "      <td>56.209999</td>\n",
       "      <td>54.799999</td>\n",
       "      <td>55.610001</td>\n",
       "      <td>45.907326</td>\n",
       "      <td>20634100</td>\n",
       "      <td>175.229996</td>\n",
       "      <td>177.830002</td>\n",
       "      <td>172.270004</td>\n",
       "      <td>176.020004</td>\n",
       "      <td>155.195450</td>\n",
       "      <td>3152100</td>\n",
       "      <td>100.430000</td>\n",
       "      <td>101.470001</td>\n",
       "      <td>99.709999</td>\n",
       "      <td>100.760002</td>\n",
       "      <td>86.748802</td>\n",
       "      <td>15430700</td>\n",
       "      <td>41.509998</td>\n",
       "      <td>42.160000</td>\n",
       "      <td>40.980000</td>\n",
       "      <td>41.709999</td>\n",
       "      <td>35.394375</td>\n",
       "      <td>11812400</td>\n",
       "      <td>47.779999</td>\n",
       "      <td>48.230000</td>\n",
       "      <td>47.540001</td>\n",
       "      <td>47.639999</td>\n",
       "      <td>40.867268</td>\n",
       "      <td>21858000</td>\n",
       "    </tr>\n",
       "    <tr>\n",
       "      <th>2019-01-08</th>\n",
       "      <td>25.719999</td>\n",
       "      <td>25.790001</td>\n",
       "      <td>25.090000</td>\n",
       "      <td>25.510000</td>\n",
       "      <td>22.428738</td>\n",
       "      <td>67339400</td>\n",
       "      <td>56.029999</td>\n",
       "      <td>56.189999</td>\n",
       "      <td>54.759998</td>\n",
       "      <td>55.459999</td>\n",
       "      <td>45.783493</td>\n",
       "      <td>18840100</td>\n",
       "      <td>177.779999</td>\n",
       "      <td>178.100006</td>\n",
       "      <td>172.899994</td>\n",
       "      <td>175.369995</td>\n",
       "      <td>154.622375</td>\n",
       "      <td>2692700</td>\n",
       "      <td>101.629997</td>\n",
       "      <td>101.820000</td>\n",
       "      <td>99.550003</td>\n",
       "      <td>100.570000</td>\n",
       "      <td>86.585228</td>\n",
       "      <td>13578800</td>\n",
       "      <td>42.299999</td>\n",
       "      <td>42.410000</td>\n",
       "      <td>41.080002</td>\n",
       "      <td>41.450001</td>\n",
       "      <td>35.173748</td>\n",
       "      <td>11398200</td>\n",
       "      <td>47.900002</td>\n",
       "      <td>48.160000</td>\n",
       "      <td>46.919998</td>\n",
       "      <td>47.540001</td>\n",
       "      <td>40.781490</td>\n",
       "      <td>19702900</td>\n",
       "    </tr>\n",
       "  </tbody>\n",
       "</table>\n",
       "</div>"
      ],
      "text/plain": [
       "Bank Ticker        BAC                        ...        WFC                     \n",
       "Stock Info        Open       High        Low  ...      Close  Adj Close    Volume\n",
       "Date                                          ...                                \n",
       "2019-01-02   24.080000  25.139999  24.010000  ...  46.939999  40.266796  20295200\n",
       "2019-01-03   24.940001  25.040001  24.450001  ...  46.570000  39.949394  22262000\n",
       "2019-01-04   25.100000  25.650000  25.030001  ...  47.950001  41.133209  23343600\n",
       "2019-01-07   25.559999  25.780001  25.290001  ...  47.639999  40.867268  21858000\n",
       "2019-01-08   25.719999  25.790001  25.090000  ...  47.540001  40.781490  19702900\n",
       "\n",
       "[5 rows x 36 columns]"
      ]
     },
     "execution_count": 613,
     "metadata": {},
     "output_type": "execute_result"
    }
   ],
   "source": [
    "bank_stocks.columns.names = ['Bank Ticker','Stock Info']\n",
    "bank_stocks.head(5)"
   ]
  },
  {
   "cell_type": "markdown",
   "metadata": {},
   "source": [
    "** Finding the max Close price for each bank's stock throughout the time period.**"
   ]
  },
  {
   "cell_type": "code",
   "execution_count": 614,
   "metadata": {},
   "outputs": [],
   "source": [
    "# for tick in tickers:\n",
    "#     print(tick, bank_stocks[tick]['Close'].max())"
   ]
  },
  {
   "cell_type": "code",
   "execution_count": 615,
   "metadata": {},
   "outputs": [
    {
     "data": {
      "text/plain": [
       "Bank Ticker\n",
       "BAC     49.380001\n",
       "C       81.910004\n",
       "GS     423.850006\n",
       "JPM    172.940002\n",
       "MS     108.730003\n",
       "WFC     59.060001\n",
       "dtype: float64"
      ]
     },
     "execution_count": 615,
     "metadata": {},
     "output_type": "execute_result"
    }
   ],
   "source": [
    "#or do this way\n",
    "bank_stocks.xs(key='Close',axis=1,level='Stock Info').max()"
   ]
  },
  {
   "cell_type": "markdown",
   "metadata": {},
   "source": [
    "** Create a new empty DataFrame called returns. This dataframe will contain the returns for each bank's stock. returns are typically defined by:\n",
    "\n",
    "A return, also known as a financial return, in its simplest terms, is the money made or lost on an investment over some period of time.\n",
    "\n",
    "**\n",
    "\n",
    "$$r_t = \\frac{p_t - p_{t-1}}{p_{t-1}} = \\frac{p_t}{p_{t-1}} - 1$$"
   ]
  },
  {
   "cell_type": "code",
   "execution_count": 616,
   "metadata": {},
   "outputs": [],
   "source": [
    "returns = pd.DataFrame()"
   ]
  },
  {
   "cell_type": "markdown",
   "metadata": {},
   "source": [
    "** Use pandas pct_change() method on the Close column to create a column in returns dataframe representing this return value.**"
   ]
  },
  {
   "cell_type": "code",
   "execution_count": 617,
   "metadata": {},
   "outputs": [
    {
     "data": {
      "text/html": [
       "<div>\n",
       "<style scoped>\n",
       "    .dataframe tbody tr th:only-of-type {\n",
       "        vertical-align: middle;\n",
       "    }\n",
       "\n",
       "    .dataframe tbody tr th {\n",
       "        vertical-align: top;\n",
       "    }\n",
       "\n",
       "    .dataframe thead th {\n",
       "        text-align: right;\n",
       "    }\n",
       "</style>\n",
       "<table border=\"1\" class=\"dataframe\">\n",
       "  <thead>\n",
       "    <tr style=\"text-align: right;\">\n",
       "      <th></th>\n",
       "      <th>BAC Return</th>\n",
       "      <th>C Return</th>\n",
       "      <th>GS Return</th>\n",
       "      <th>JPM Return</th>\n",
       "      <th>MS Return</th>\n",
       "      <th>WFC Return</th>\n",
       "    </tr>\n",
       "    <tr>\n",
       "      <th>Date</th>\n",
       "      <th></th>\n",
       "      <th></th>\n",
       "      <th></th>\n",
       "      <th></th>\n",
       "      <th></th>\n",
       "      <th></th>\n",
       "    </tr>\n",
       "  </thead>\n",
       "  <tbody>\n",
       "    <tr>\n",
       "      <th>2019-01-02</th>\n",
       "      <td>NaN</td>\n",
       "      <td>NaN</td>\n",
       "      <td>NaN</td>\n",
       "      <td>NaN</td>\n",
       "      <td>NaN</td>\n",
       "      <td>NaN</td>\n",
       "    </tr>\n",
       "    <tr>\n",
       "      <th>2019-01-03</th>\n",
       "      <td>-0.016026</td>\n",
       "      <td>-0.018121</td>\n",
       "      <td>-0.014649</td>\n",
       "      <td>-0.022153</td>\n",
       "      <td>-0.017822</td>\n",
       "      <td>-0.007882</td>\n",
       "    </tr>\n",
       "    <tr>\n",
       "      <th>2019-01-04</th>\n",
       "      <td>0.041531</td>\n",
       "      <td>0.048896</td>\n",
       "      <td>0.032682</td>\n",
       "      <td>0.036865</td>\n",
       "      <td>0.040827</td>\n",
       "      <td>0.029633</td>\n",
       "    </tr>\n",
       "    <tr>\n",
       "      <th>2019-01-07</th>\n",
       "      <td>-0.000782</td>\n",
       "      <td>0.008707</td>\n",
       "      <td>0.005541</td>\n",
       "      <td>0.000695</td>\n",
       "      <td>0.009927</td>\n",
       "      <td>-0.006465</td>\n",
       "    </tr>\n",
       "    <tr>\n",
       "      <th>2019-01-08</th>\n",
       "      <td>-0.001956</td>\n",
       "      <td>-0.002697</td>\n",
       "      <td>-0.003693</td>\n",
       "      <td>-0.001886</td>\n",
       "      <td>-0.006233</td>\n",
       "      <td>-0.002099</td>\n",
       "    </tr>\n",
       "  </tbody>\n",
       "</table>\n",
       "</div>"
      ],
      "text/plain": [
       "            BAC Return  C Return  GS Return  JPM Return  MS Return  WFC Return\n",
       "Date                                                                          \n",
       "2019-01-02         NaN       NaN        NaN         NaN        NaN         NaN\n",
       "2019-01-03   -0.016026 -0.018121  -0.014649   -0.022153  -0.017822   -0.007882\n",
       "2019-01-04    0.041531  0.048896   0.032682    0.036865   0.040827    0.029633\n",
       "2019-01-07   -0.000782  0.008707   0.005541    0.000695   0.009927   -0.006465\n",
       "2019-01-08   -0.001956 -0.002697  -0.003693   -0.001886  -0.006233   -0.002099"
      ]
     },
     "execution_count": 617,
     "metadata": {},
     "output_type": "execute_result"
    }
   ],
   "source": [
    "for tick in tickers:\n",
    "    returns[tick + ' Return'] = bank_stocks[tick]['Close'].pct_change()\n",
    "returns.head()"
   ]
  },
  {
   "cell_type": "markdown",
   "metadata": {},
   "source": [
    "** The Seaborn Pairplot allows us to plot pairwise relationships between variables within a dataset. This creates a nice visualisation and helps us understand the data by summarising a large amount of data in a single figure. This is essential when we are exploring our dataset and trying to become familiar with it. ** "
   ]
  },
  {
   "cell_type": "code",
   "execution_count": 618,
   "metadata": {},
   "outputs": [],
   "source": [
    "\n",
    "import seaborn as sns"
   ]
  },
  {
   "cell_type": "code",
   "execution_count": 619,
   "metadata": {},
   "outputs": [],
   "source": [
    "# sns.pairplot(returns[1:])"
   ]
  },
  {
   "cell_type": "markdown",
   "metadata": {},
   "source": [
    "** Using this returns DataFrame, figure out on what dates each bank stock had the best and worst single day returns \n",
    "**"
   ]
  },
  {
   "cell_type": "code",
   "execution_count": 620,
   "metadata": {},
   "outputs": [],
   "source": [
    "# returns.min()\n",
    "# The argmin() method returns the index of the smallest element of an array. Date is an index in the returns dataframe."
   ]
  },
  {
   "cell_type": "code",
   "execution_count": 621,
   "metadata": {},
   "outputs": [],
   "source": [
    "# returns['C Return'].argmin()\n",
    "# now argmin only returns the position of the index and not the index itself."
   ]
  },
  {
   "cell_type": "markdown",
   "metadata": {},
   "source": [
    "The idxmin() method returns a Series with the index of the minimum value for each column.\n",
    "\n",
    "By specifying the column axis (axis='columns'), the idxmin() method returns a Series with the index of the minimum value for each row."
   ]
  },
  {
   "cell_type": "code",
   "execution_count": 622,
   "metadata": {},
   "outputs": [
    {
     "data": {
      "text/plain": [
       "BAC Return   2020-03-16\n",
       "C Return     2020-03-16\n",
       "GS Return    2020-03-16\n",
       "JPM Return   2020-03-16\n",
       "MS Return    2020-03-16\n",
       "WFC Return   2020-03-12\n",
       "dtype: datetime64[ns]"
      ]
     },
     "execution_count": 622,
     "metadata": {},
     "output_type": "execute_result"
    }
   ],
   "source": [
    "returns.idxmin()"
   ]
  },
  {
   "cell_type": "markdown",
   "metadata": {},
   "source": [
    "idxmax() to get the biggest single day gains."
   ]
  },
  {
   "cell_type": "code",
   "execution_count": 623,
   "metadata": {},
   "outputs": [],
   "source": [
    "# returns.max()"
   ]
  },
  {
   "cell_type": "code",
   "execution_count": 624,
   "metadata": {},
   "outputs": [],
   "source": [
    "# print(returns.loc['2021-12-31'])"
   ]
  },
  {
   "cell_type": "code",
   "execution_count": 625,
   "metadata": {},
   "outputs": [
    {
     "data": {
      "text/plain": [
       "BAC Return   2020-03-13\n",
       "C Return     2020-03-13\n",
       "GS Return    2020-03-13\n",
       "JPM Return   2020-03-13\n",
       "MS Return    2020-03-13\n",
       "WFC Return   2020-03-24\n",
       "dtype: datetime64[ns]"
      ]
     },
     "execution_count": 625,
     "metadata": {},
     "output_type": "execute_result"
    }
   ],
   "source": [
    "returns.idxmax()"
   ]
  },
  {
   "cell_type": "markdown",
   "metadata": {},
   "source": [
    "Though the crash began on 20 February, selling was intensified during the first half of March to mid-March. During the crash, there were multiple severe daily drops in the global stock market, the largest drop was on 16 March, nicknamed 'Black Monday II' of 12–13% in most global markets. There were two other significant dates of crashes in the stock markets, one being 9 March, nicknamed 'Black Monday I',[31][32][33] and on 12 March, nicknamed 'Black Thursday'. To deal with the panic, banks and reserves across the world cut their interest rates, bank rates and cash flow rates, as well as offering unprecedented support to investors and markets.\n",
    "(Source:Wikipedia)"
   ]
  },
  {
   "cell_type": "markdown",
   "metadata": {},
   "source": [
    "On 13 March, European stock markets closed mostly up while Asia-Pacific stock markets mostly closed down (except for the S&P/ASX 200 which rose by 4.4%)\n",
    "Dow futures tumbled more than 1,000 points and Standard & Poor's 500 futures dropped 5%, triggering a circuit breaker.[310] On Monday 16 March, Asia-Pacific and European stock markets closed down, with the S&P/ASX 200 setting a one-day record fall of 9.7%, collapsing 30% from the peak that was reached on 20 February,[28][29][30] and the OMX Copenhagen 25, the OMX Tallinn, and OMX Vilnius on the Nasdaq Nordic exchanges all fell below 20 percent from their most recent peaks on 19 February in Copenhagen and on 21 February in Tallinn and Vilnius.[311][253] The Dow Jones Industrial Average, the NASDAQ Composite, and the S&P 500 all fell by 12–13%, with the Dow eclipsing the one-day drop record set on 12 March and the trading curb being activated at the beginning of trading for the third time (after 9 and 12 March).[312] Oil prices fell by 10%,[313] while the yields on 10-year and 30-year U.S. Treasury securities fell to 0.76% and 1.38% respectively (while their yield curve remained normal for the third straight trading session)."
   ]
  },
  {
   "cell_type": "markdown",
   "metadata": {},
   "source": [
    "High levels of market volatility are associated with negative stock returns and high price risk premiums"
   ]
  },
  {
   "cell_type": "markdown",
   "metadata": {},
   "source": []
  },
  {
   "cell_type": "code",
   "execution_count": 626,
   "metadata": {},
   "outputs": [
    {
     "data": {
      "text/plain": [
       "BAC Return    0.022440\n",
       "C Return      0.024423\n",
       "GS Return     0.020554\n",
       "JPM Return    0.020013\n",
       "MS Return     0.022133\n",
       "WFC Return    0.023828\n",
       "dtype: float64"
      ]
     },
     "execution_count": 626,
     "metadata": {},
     "output_type": "execute_result"
    }
   ],
   "source": [
    "returns.std()"
   ]
  },
  {
   "cell_type": "code",
   "execution_count": 630,
   "metadata": {},
   "outputs": [
    {
     "data": {
      "text/plain": [
       "BAC Return    0.011606\n",
       "C Return      0.013126\n",
       "GS Return     0.009525\n",
       "JPM Return    0.007763\n",
       "MS Return     0.014571\n",
       "WFC Return    0.014701\n",
       "dtype: float64"
      ]
     },
     "execution_count": 630,
     "metadata": {},
     "output_type": "execute_result"
    }
   ],
   "source": [
    "returns.loc['2024-01-01':'2024-12-31'].std()"
   ]
  },
  {
   "cell_type": "code",
   "execution_count": 658,
   "metadata": {},
   "outputs": [
    {
     "data": {
      "text/plain": [
       "<Axes: xlabel='GS Return', ylabel='Count'>"
      ]
     },
     "execution_count": 658,
     "metadata": {},
     "output_type": "execute_result"
    },
    {
     "data": {
      "image/png": "[encoded data removed]",
      "text/plain": [
       "<Figure size 640x480 with 1 Axes>"
      ]
     },
     "metadata": {},
     "output_type": "display_data"
    }
   ],
   "source": [
    "sns.histplot(returns.loc['2024-01-01':'2024-12-31']['GS Return'],color='green', kde=True)"
   ]
  },
  {
   "cell_type": "code",
   "execution_count": 659,
   "metadata": {},
   "outputs": [],
   "source": [
    "# sns.displot(returns.loc['2024-01-01':'2024-12-31']['GS Return'], kind=\"kde\")\n"
   ]
  },
  {
   "cell_type": "code",
   "execution_count": 660,
   "metadata": {},
   "outputs": [
    {
     "data": {
      "text/plain": [
       "<Axes: xlabel='JPM Return', ylabel='Count'>"
      ]
     },
     "execution_count": 660,
     "metadata": {},
     "output_type": "execute_result"
    },
    {
     "data": {
      "image/png": "[encoded data removed]",
      "text/plain": [
       "<Figure size 640x480 with 1 Axes>"
      ]
     },
     "metadata": {},
     "output_type": "display_data"
    }
   ],
   "source": [
    "sns.histplot(returns.loc['2024-01-01':'2024-12-31']['JPM Return'],color='green', kde=True)"
   ]
  },
  {
   "cell_type": "code",
   "execution_count": 661,
   "metadata": {},
   "outputs": [
    {
     "data": {
      "text/plain": [
       "<Axes: xlabel='GS Return', ylabel='Count'>"
      ]
     },
     "execution_count": 661,
     "metadata": {},
     "output_type": "execute_result"
    },
    {
     "data": {
      "image/png": "[encoded data removed]",
      "text/plain": [
       "<Figure size 640x480 with 1 Axes>"
      ]
     },
     "metadata": {},
     "output_type": "display_data"
    }
   ],
   "source": [
    "sns.histplot(returns['GS Return'],color='green', kde=True)"
   ]
  },
  {
   "cell_type": "code",
   "execution_count": 664,
   "metadata": {},
   "outputs": [
    {
     "data": {
      "text/plain": [
       "<Axes: xlabel='JPM Return', ylabel='Count'>"
      ]
     },
     "execution_count": 664,
     "metadata": {},
     "output_type": "execute_result"
    },
    {
     "data": {
      "image/png": "[encoded data removed]",
      "text/plain": [
       "<Figure size 640x480 with 1 Axes>"
      ]
     },
     "metadata": {},
     "output_type": "display_data"
    }
   ],
   "source": [
    "sns.histplot(returns['JPM Return'],color='green', kde=True)"
   ]
  },
  {
   "cell_type": "code",
   "execution_count": 665,
   "metadata": {},
   "outputs": [
    {
     "data": {
      "text/plain": [
       "<Axes: xlabel='C Return', ylabel='Count'>"
      ]
     },
     "execution_count": 665,
     "metadata": {},
     "output_type": "execute_result"
    },
    {
     "data": {
      "image/png": "[encoded data removed]",
      "text/plain": [
       "<Figure size 640x480 with 1 Axes>"
      ]
     },
     "metadata": {},
     "output_type": "display_data"
    }
   ],
   "source": [
    "sns.histplot(returns['C Return'],color='green', kde=True)"
   ]
  },
  {
   "cell_type": "code",
   "execution_count": 666,
   "metadata": {},
   "outputs": [
    {
     "data": {
      "image/png": "[encoded data removed]",
      "text/plain": [
       "<Figure size 1200x400 with 1 Axes>"
      ]
     },
     "metadata": {},
     "output_type": "display_data"
    }
   ],
   "source": [
    "for tick in tickers:\n",
    "    bank_stocks[tick]['Close'].plot(figsize=(12,4),label=tick)\n",
    "# plt.legend()"
   ]
  }
 ],
 "metadata": {
  "kernelspec": {
   "display_name": "Python 3",
   "language": "python",
   "name": "python3"
  },
  "language_info": {
   "codemirror_mode": {
    "name": "ipython",
    "version": 3
   },
   "file_extension": ".py",
   "mimetype": "text/x-python",
   "name": "python",
   "nbconvert_exporter": "python",
   "pygments_lexer": "ipython3",
   "version": "3.12.0"
  }
 },
 "nbformat": 4,
 "nbformat_minor": 2
}
